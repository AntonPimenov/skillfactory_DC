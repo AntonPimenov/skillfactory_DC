{
 "cells": [
  {
   "cell_type": "code",
   "execution_count": 8,
   "metadata": {},
   "outputs": [
    {
     "data": {
      "text/plain": [
       "array([[ 1.91598696, -1.6288373 , -8.02822187],\n",
       "       [-7.88832281, -7.8308251 , -4.39168842]])"
      ]
     },
     "execution_count": 8,
     "metadata": {},
     "output_type": "execute_result"
    }
   ],
   "source": [
    "import numpy as np\n",
    "\n",
    "np.random.rand()\n",
    "np.random.sample()\n",
    "np.random.uniform(-10, 5, size=(2, 3))\n"
   ]
  },
  {
   "cell_type": "code",
   "execution_count": 14,
   "metadata": {},
   "outputs": [
    {
     "name": "stdout",
     "output_type": "stream",
     "text": [
      "[[1 2 3]\n",
      " [3 1 2]]\n"
     ]
    }
   ],
   "source": [
    "import numpy as np\n",
    "\n",
    "arr = np.random.randint(1, 4, size=(2,3))\n",
    "print(arr)"
   ]
  },
  {
   "cell_type": "code",
   "execution_count": 18,
   "metadata": {},
   "outputs": [
    {
     "name": "stdout",
     "output_type": "stream",
     "text": [
      "['Kate' 'Kate' 'John']\n"
     ]
    }
   ],
   "source": [
    "import numpy as np\n",
    "workers = ['Ivan', 'Nikita', 'Maria', 'John', 'Kate']\n",
    "choice = np.random.choice(workers, size=3, replace=True)\n",
    "print(choice)"
   ]
  },
  {
   "cell_type": "code",
   "execution_count": 34,
   "metadata": {},
   "outputs": [
    {
     "name": "stdout",
     "output_type": "stream",
     "text": [
      "0.6059782788074047\n",
      "\n",
      "\n",
      "[[58  1]\n",
      " [95 87]\n",
      " [45 63]]\n",
      "\n",
      "[ 2  4  6  8 10 12 14 16]\n",
      "\n",
      "[ 4 16  6 10  2 14 12  8]\n",
      "\n",
      "[ 8  2 10]\n",
      "\n",
      "[10  8  2]\n"
     ]
    }
   ],
   "source": [
    "import numpy as np\n",
    "np.random.seed(2021)\n",
    "\n",
    "#В simple сохраните случайное число в диапазоне от 0 до 1\n",
    "simple = np.random.rand()\n",
    "print(simple)\n",
    "print('')\n",
    "\n",
    "#Сгенерируйте 120 чисел в диапазоне от -150 до 2021, сохраните их в переменную randoms\n",
    "#randoms = np.random.uniform(-150, 2021, size=120)\n",
    "#print(randoms)\n",
    "print(\"\")\n",
    "\n",
    "#Получите массив из случайных целых чисел от 1 до 100 (включительно) из 3 строк и 2 столбцов.\n",
    "#Сохраните результат в table\n",
    "table = np.random.randint(1, 101, size=(3, 2))\n",
    "print(table)\n",
    "print('')\n",
    "\n",
    "#B переменную even сохраните четные числа от 2 до 16 (включительно)\n",
    "even = np.arange(2, 17, 2)\n",
    "print(even)\n",
    "print('')\n",
    "\n",
    "#Скопируйте even в переменную mix. Перемешайте числа в mix так, чтобы массив изменился\n",
    "mix = np.random.permutation(even)\n",
    "print(mix)\n",
    "print(\"\")\n",
    "\n",
    "#Получите из even 3 числа без повторений. Сохраните их в переменную select\n",
    "select = np.random.choice(even,size=3, replace=False)\n",
    "print(select)\n",
    "print('')\n",
    "\n",
    "#Получите переменную triplet, которая должна содержать перемешанные значения из массива select (сам select измениться не должен)\n",
    "triplet = np.random.permutation(select)\n",
    "print(triplet)\n"
   ]
  },
  {
   "cell_type": "code",
   "execution_count": 43,
   "metadata": {},
   "outputs": [
    {
     "data": {
      "text/plain": [
       "array([[0., 1., 0., 1.],\n",
       "       [1., 0., 1., 0.],\n",
       "       [0., 1., 0., 1.],\n",
       "       [1., 0., 1., 0.]])"
      ]
     },
     "execution_count": 43,
     "metadata": {},
     "output_type": "execute_result"
    }
   ],
   "source": [
    "#Напишите функцию get_chess(a), которая принимает на вход длину стороны квадрата a и \n",
    "#возвращает двумерный массив формы (a, a), заполненный 0 и 1 в шахматном порядке.\n",
    "#В левом верхнем углу всегда должен быть ноль.\n",
    "#Примечание. воспользуйтесь функцией np.zeros, а затем с помощью срезов без циклов задайте необходимым элементам значение 1.\n",
    "# В Python для получения каждого второго элемента используется срез [::2]. \n",
    "# Подумайте, как грамотно применить этот принцип к двумерному массиву.\n",
    "\n",
    "import numpy as np\n",
    "\n",
    "def get_chess(a):\n",
    "    arr = np.zeros((a,a))\n",
    "    arr[1::2, ::2] = 1\n",
    "    arr[::2, 1::2] = 1\n",
    "    return arr\n",
    "\n",
    "\n",
    "get_chess(4)"
   ]
  },
  {
   "cell_type": "code",
   "execution_count": 44,
   "metadata": {},
   "outputs": [
    {
     "data": {
      "text/plain": [
       "(array([4, 2, 1, 5, 3]), 2471788226)"
      ]
     },
     "execution_count": 44,
     "metadata": {},
     "output_type": "execute_result"
    }
   ],
   "source": [
    "\n",
    "#Вы разрабатываете приложение для прослушивания музыки.\n",
    "# Конечно же, там будет доступна функция перемешивания плейлиста. \n",
    "# Пользователю может настолько понравиться перемешанная версия плейлиста, что он захочет сохранить его копию.\n",
    "# Однако вы не хотите хранить в памяти новую версию плейлиста, а просто хотите сохранять тот seed, с которым он был сгенерирован.\n",
    "# Для этого напишите функцию shuffle_seed(array), которая принимает на вход массив из чисел, \n",
    "# генерирует случайное число для seed в диапазоне от 0 до 2**32 - 1 (включительно) и возвращает кортеж:\n",
    "# перемешанный с данным seed массив (исходный массив должен оставаться без изменений), а также seed, с которым этот массив был получен.\n",
    "import numpy as np\n",
    "def shuffle_seed(array):\n",
    "    seed = np.random.randint(2**32)\n",
    "    np.random.seed(seed)\n",
    "    result = np.random.permutation(array)\n",
    "    return result, seed\n",
    "array = [1, 2, 3, 4, 5]\n",
    "shuffle_seed(array)"
   ]
  },
  {
   "cell_type": "code",
   "execution_count": 45,
   "metadata": {},
   "outputs": [
    {
     "data": {
      "text/plain": [
       "(5.196152422706632, 10.392304845413264)"
      ]
     },
     "execution_count": 45,
     "metadata": {},
     "output_type": "execute_result"
    }
   ],
   "source": [
    "#Напишите функцию min_max_dist(*vectors), \n",
    "#которая принимает на вход неограниченное число векторов через запятую.\n",
    "#Гарантируется, что все векторы, которые передаются, одинаковой длины.\n",
    "#Функция возвращает минимальное и максимальное расстояние между векторами в виде кортежа.\n",
    "import numpy as np\n",
    "def min_max_dist(*vectors):\n",
    "    dists = list()\n",
    "    for i in range(len(vectors)):\n",
    "        for j in range(i + 1, len(vectors)):\n",
    "            dists.append(np.linalg.norm(vectors[i] - vectors[j]))\n",
    "    return (min(dists), max(dists))\n",
    "\n",
    "vec1 = np.array([1,2,3])\n",
    "vec2 = np.array([4,5,6])\n",
    "vec3 = np.array([7, 8, 9])\n",
    "\n",
    "min_max_dist(vec1, vec2, vec3)        "
   ]
  },
  {
   "cell_type": "code",
   "execution_count": 4,
   "metadata": {},
   "outputs": [
    {
     "name": "stdout",
     "output_type": "stream",
     "text": [
      "True\n"
     ]
    }
   ],
   "source": [
    "#Напишите функцию any_normal, которая принимает на вход неограниченное число векторов через запятую. \n",
    "# Гарантируется, что все векторы, которые передаются, одинаковой длины.\n",
    "# Функция возвращает True, если есть хотя бы одна пара перпендикулярных векторов. Иначе возвращает False.\n",
    "\n",
    "import numpy as np\n",
    "def any_normal(*vectors):\n",
    "    \n",
    "    for i in range(len(vectors)):\n",
    "        for j in range(i + 1, len(vectors)):\n",
    "            if np.dot(vectors[i], vectors[j]) == 0:\n",
    "                return True\n",
    "    return False         \n",
    "\n",
    "vec1 = np.array([2, 1])\n",
    "vec2 = np.array([-1, 2])\n",
    "vec3 = np.array([3,4])\n",
    "print(any_normal(vec1, vec2, vec3))\n"
   ]
  },
  {
   "cell_type": "code",
   "execution_count": 10,
   "metadata": {},
   "outputs": [
    {
     "data": {
      "text/plain": [
       "array([[[77, 14, 36, 13, 12],\n",
       "        [90, 83, 54, 21, 27],\n",
       "        [30, 57, 85, 81, 66],\n",
       "        [60, 68, 25, 67, 55],\n",
       "        [30, 29, 85, 35,  7]],\n",
       "\n",
       "       [[67, 43,  4, 63, 97],\n",
       "        [21, 64, 98, 85, 74],\n",
       "        [41, 38, 26, 66, 34],\n",
       "        [26, 20, 24, 85, 40],\n",
       "        [98, 73,  4, 91, 57]],\n",
       "\n",
       "       [[12, 87, 56, 29, 39],\n",
       "        [41, 46,  6, 52, 70],\n",
       "        [37, 85, 59, 38, 69],\n",
       "        [98, 73, 31, 39, 51],\n",
       "        [77, 81,  8, 65, 28]]])"
      ]
     },
     "execution_count": 10,
     "metadata": {},
     "output_type": "execute_result"
    }
   ],
   "source": [
    "#Напишите функцию get_loto(num), генерирующую трёхмерный массив случайных целых чисел от 1 до 100 (включительно). \n",
    "#Это поля для игры в лото.\n",
    "# Tрёхмерный массив должен состоять из таблиц чисел формы 5х5, то есть итоговая форма — (num, 5, 5).\n",
    "# Функция возвращает полученный массив.\n",
    "\n",
    "import numpy as np\n",
    "def get_loto(num):\n",
    "    arr = np.random.randint(1, 101, size=(num, 5, 5))\n",
    "    return arr\n",
    "\n",
    "get_loto(3)\n"
   ]
  },
  {
   "cell_type": "code",
   "execution_count": 14,
   "metadata": {},
   "outputs": [
    {
     "data": {
      "text/plain": [
       "array([[[ 24,  67,  47,  80,  27],\n",
       "        [ 41,  62,   4,  90,  59],\n",
       "        [ 43,   1,  15,  56,  53],\n",
       "        [ 84,  10,  94,  66,  65],\n",
       "        [ 48,  68,  96,  34,  44]],\n",
       "\n",
       "       [[ 34,  48, 100,  77,  20],\n",
       "        [ 51,   5,  10,  91,  17],\n",
       "        [ 87,  90,  60,  44,   9],\n",
       "        [ 98,  84,  71,  12,  52],\n",
       "        [ 53,  21,  37,  46,  43]],\n",
       "\n",
       "       [[ 96,  45,  68,  33,   5],\n",
       "        [ 56,  74,  15,  89,   7],\n",
       "        [ 14,  17,   6,  75,  99],\n",
       "        [ 77,  29,  93,  30,  70],\n",
       "        [ 94,  44,  84,  57,  88]]])"
      ]
     },
     "execution_count": 14,
     "metadata": {},
     "output_type": "execute_result"
    }
   ],
   "source": [
    "#Напишите функцию get_unique_loto(num). \n",
    "# Она так же, как и функция в задании 10.10, генерирует num полей для игры в лото, \n",
    "# однако теперь на каждом поле 5х5 числа не могут повторяться.\n",
    "# Функция также должна возвращать массив формы num x 5 x 5.\n",
    "\n",
    "\n",
    "import numpy as np\n",
    "\n",
    "def get_unique_loto(num):\n",
    "    sample = np.arange(1, 101)\n",
    "    res = list()\n",
    "    for i in range(num):\n",
    "        res.append(np.random.choice(sample, replace=False, size=(5,5)))\n",
    "    res =np.array(res)\n",
    "    return res\n",
    "\n",
    "get_unique_loto(3)    "
   ]
  },
  {
   "cell_type": "code",
   "execution_count": null,
   "metadata": {},
   "outputs": [],
   "source": []
  }
 ],
 "metadata": {
  "kernelspec": {
   "display_name": "Python 3",
   "language": "python",
   "name": "python3"
  },
  "language_info": {
   "codemirror_mode": {
    "name": "ipython",
    "version": 3
   },
   "file_extension": ".py",
   "mimetype": "text/x-python",
   "name": "python",
   "nbconvert_exporter": "python",
   "pygments_lexer": "ipython3",
   "version": "3.8.10"
  },
  "orig_nbformat": 4,
  "vscode": {
   "interpreter": {
    "hash": "31f2aee4e71d21fbe5cf8b01ff0e069b9275f58929596ceb00d14d90e3e16cd6"
   }
  }
 },
 "nbformat": 4,
 "nbformat_minor": 2
}
