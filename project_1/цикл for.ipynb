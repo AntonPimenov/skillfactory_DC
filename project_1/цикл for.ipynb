{
 "cells": [
  {
   "cell_type": "code",
   "execution_count": 4,
   "metadata": {},
   "outputs": [
    {
     "name": "stdout",
     "output_type": "stream",
     "text": [
      "Before exception\n",
      "division by zero\n",
      "After exception\n",
      "finally\n",
      "After exception\n"
     ]
    }
   ],
   "source": [
    "try:    \n",
    "    print(\"Before exception\")\n",
    "    # Теперь пользователь сам вводит числа для деления\n",
    "    a = int(input(\"a: \"))\n",
    "    b = int(input(\"b: \"))\n",
    "    # Здесь может возникнуть исключение деления на ноль\n",
    "    c = a / b \n",
    "    # Печатаем c = a / b если всё хорошо   \n",
    "    print(c)  \n",
    "except ZeroDivisionError as e:\n",
    "    print(e)\n",
    "    print('After exception')\n",
    "else:\n",
    "    print(\"everything's fine\")\n",
    "finally:\n",
    "    print('finally')\n",
    "             \n",
    "print(\"After exception\")"
   ]
  },
  {
   "cell_type": "code",
   "execution_count": 6,
   "metadata": {},
   "outputs": [
    {
     "name": "stdout",
     "output_type": "stream",
     "text": [
      "Такого ключа в словаре нет\n"
     ]
    }
   ],
   "source": [
    "medicines = {'Ибупрофен': 99, 'Эспумизан': 279, 'Пенталгин': 119}\n",
    "name = 'Визин'\n",
    "# Такого ключа в словаре нет\n",
    "\n",
    "# medicines = {'Ибупрофен': 99, 'Эспумизан': 279, 'Пенталгин': 119}\n",
    "# name = 'Ибупрофен'\n",
    "# 99\n",
    "\n",
    "try:\n",
    "    print(medicines[name])\n",
    "except KeyError as e:\n",
    "    print(\"Такого ключа в словаре нет\")\n",
    "    \n",
    "    "
   ]
  },
  {
   "cell_type": "code",
   "execution_count": 10,
   "metadata": {},
   "outputs": [
    {
     "ename": "ZeroDivisionError",
     "evalue": "Вы собираетесь делить на 0",
     "output_type": "error",
     "traceback": [
      "\u001b[0;31m---------------------------------------------------------------------------\u001b[0m",
      "\u001b[0;31mZeroDivisionError\u001b[0m                         Traceback (most recent call last)",
      "\u001b[1;32m/home/anton/IDE/project_1/new.ipynb Ячейка 3\u001b[0m in \u001b[0;36m<cell line: 3>\u001b[0;34m()\u001b[0m\n\u001b[1;32m      <a href='vscode-notebook-cell:/home/anton/IDE/project_1/new.ipynb#W2sZmlsZQ%3D%3D?line=1'>2</a>\u001b[0m \u001b[39m# result = 0.5\u001b[39;00m\n\u001b[1;32m      <a href='vscode-notebook-cell:/home/anton/IDE/project_1/new.ipynb#W2sZmlsZQ%3D%3D?line=2'>3</a>\u001b[0m \u001b[39mif\u001b[39;00m number \u001b[39m==\u001b[39m \u001b[39m0\u001b[39m:\n\u001b[0;32m----> <a href='vscode-notebook-cell:/home/anton/IDE/project_1/new.ipynb#W2sZmlsZQ%3D%3D?line=3'>4</a>\u001b[0m     \u001b[39mraise\u001b[39;00m \u001b[39mZeroDivisionError\u001b[39;00m(\u001b[39m'\u001b[39m\u001b[39mВы собираетесь делить на 0\u001b[39m\u001b[39m'\u001b[39m)\n\u001b[1;32m      <a href='vscode-notebook-cell:/home/anton/IDE/project_1/new.ipynb#W2sZmlsZQ%3D%3D?line=4'>5</a>\u001b[0m \u001b[39melse\u001b[39;00m:\n\u001b[1;32m      <a href='vscode-notebook-cell:/home/anton/IDE/project_1/new.ipynb#W2sZmlsZQ%3D%3D?line=5'>6</a>\u001b[0m     result \u001b[39m=\u001b[39m \u001b[39mround\u001b[39m(\u001b[39m10\u001b[39m \u001b[39m/\u001b[39m number, \u001b[39m3\u001b[39m)\n",
      "\u001b[0;31mZeroDivisionError\u001b[0m: Вы собираетесь делить на 0"
     ]
    }
   ],
   "source": [
    "number = 0\n",
    "# result = 0.5\n",
    "if number == 0:\n",
    "    raise ZeroDivisionError('Вы собираетесь делить на 0')\n",
    "else:\n",
    "    result = round(10 / number, 3)\n",
    "        \n",
    "    "
   ]
  },
  {
   "cell_type": "code",
   "execution_count": 4,
   "metadata": {},
   "outputs": [
    {
     "name": "stdout",
     "output_type": "stream",
     "text": [
      "0\n",
      "6\n",
      "12\n",
      "18\n",
      "24\n",
      "30\n",
      "36\n",
      "42\n",
      "48\n",
      "54\n",
      "60\n",
      "66\n",
      "72\n",
      "78\n",
      "84\n",
      "90\n",
      "96\n",
      "17\n"
     ]
    }
   ],
   "source": [
    "num_list = list(range(0, 100, 3))\n",
    "count_even = 0 \n",
    "for i in num_list:\n",
    "    if i % 2 == 0:\n",
    "        count_even += 1\n",
    "     \n",
    "print(count_even)        "
   ]
  },
  {
   "cell_type": "code",
   "execution_count": 6,
   "metadata": {},
   "outputs": [
    {
     "name": "stdout",
     "output_type": "stream",
     "text": [
      "hello\n",
      "string_1\n",
      "another\n",
      "3\n"
     ]
    }
   ],
   "source": [
    "mixture_list = [True, 1, -10, 'hello', False, 'string_1', 123, 2.5, [1, 2], 'another'] \n",
    "count_str = 0\n",
    "for elem in mixture_list:\n",
    "    if type(elem) == str:\n",
    "        count_str += 1\n",
    "        print(elem)\n",
    "print(count_str)         "
   ]
  },
  {
   "cell_type": "code",
   "execution_count": 3,
   "metadata": {},
   "outputs": [
    {
     "name": "stdout",
     "output_type": "stream",
     "text": [
      "My name is Sergei. I'm from Moscow.\n",
      "['My', 'name', 'is', 'Sergei.', \"I'm\", 'from', 'Moscow.']\n"
     ]
    }
   ],
   "source": [
    "word_list = [\"My\", \"name\", \"is\", \"Sergei\", \"EOS\", \"I'm\", \"from\", \"Moscow\", \"EOS\"] \n",
    "# Создаём накопительную переменную, в которую будем добавлять слова\n",
    "text = ''\n",
    "# Создаём цикл по словам из списка word_list\n",
    "for word in word_list:\n",
    "    # Проверяем, что слово - не является обозначением конца предложения\n",
    "    if word != 'EOS':\n",
    "        # Если условие выполняется, добавляем к текущему предложению слово и пробел\n",
    "        text += word + ' '\n",
    "    else:\n",
    "        # В противном случае (слово - обозначение конца предложения),\n",
    "        # отрезаем последний пробел слева, добавляем точку и пробел справа\n",
    "        text = text[:-1] + '.' + ' '\n",
    "# После объединения текста удаляем лишние пробелы слева и справа\n",
    "text = text.strip()\n",
    "print(text)\n",
    "print(text.split())"
   ]
  },
  {
   "cell_type": "code",
   "execution_count": null,
   "metadata": {},
   "outputs": [],
   "source": []
  },
  {
   "cell_type": "code",
   "execution_count": null,
   "metadata": {},
   "outputs": [],
   "source": []
  }
 ],
 "metadata": {
  "kernelspec": {
   "display_name": "Python 3",
   "language": "python",
   "name": "python3"
  },
  "language_info": {
   "codemirror_mode": {
    "name": "ipython",
    "version": 3
   },
   "file_extension": ".py",
   "mimetype": "text/x-python",
   "name": "python",
   "nbconvert_exporter": "python",
   "pygments_lexer": "ipython3",
   "version": "3.8.10"
  },
  "orig_nbformat": 4
 },
 "nbformat": 4,
 "nbformat_minor": 2
}
