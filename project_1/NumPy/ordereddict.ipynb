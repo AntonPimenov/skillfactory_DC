{
 "cells": [
  {
   "cell_type": "code",
   "execution_count": 2,
   "metadata": {},
   "outputs": [
    {
     "name": "stdout",
     "output_type": "stream",
     "text": [
      "{'Ivan': 19, 'Mark': 25, 'Andrey': 23, 'Maria': 20}\n",
      "[('Ivan', 19), ('Mark', 25), ('Andrey', 23), ('Maria', 20)]\n"
     ]
    }
   ],
   "source": [
    "#создание словаря через список кортежей\n",
    "\n",
    "data = [('Ivan', 19),('Mark', 25),('Andrey', 23),('Maria', 20)]\n",
    "\n",
    "client_ages = dict(data)\n",
    "print(client_ages)\n",
    "print(data)"
   ]
  },
  {
   "cell_type": "code",
   "execution_count": 3,
   "metadata": {},
   "outputs": [
    {
     "name": "stdout",
     "output_type": "stream",
     "text": [
      "OrderedDict([('Ivan', 19), ('Mark', 25), ('Andrey', 23), ('Maria', 20)])\n"
     ]
    }
   ],
   "source": [
    "#OrderedDict спец словарь с гаратированным сохранением ключей в порядке их добавления\n",
    "\n",
    "from collections import OrderedDict\n",
    "data = [('Ivan', 19),('Mark', 25),('Andrey', 23),('Maria', 20)]\n",
    "OrderedDict_clients = OrderedDict(data)\n",
    "\n",
    "print(OrderedDict_clients)"
   ]
  },
  {
   "cell_type": "code",
   "execution_count": 7,
   "metadata": {},
   "outputs": [
    {
     "name": "stdout",
     "output_type": "stream",
     "text": [
      "OrderedDict([('Ivan', 19), ('Maria', 20), ('Andrey', 23), ('Mark', 25)])\n"
     ]
    }
   ],
   "source": [
    "#сортировка по второму значению из кортежа, по возрасту\n",
    "from collections import OrderedDict\n",
    "data = [('Ivan', 19),('Mark', 25),('Andrey', 23),('Maria', 20)]\n",
    "OrderedDict_clients_ages = OrderedDict(sorted(data, key=lambda x: x[1]))\n",
    "print(OrderedDict_clients_ages)\n"
   ]
  },
  {
   "cell_type": "code",
   "execution_count": 10,
   "metadata": {},
   "outputs": [
    {
     "name": "stdout",
     "output_type": "stream",
     "text": [
      "OrderedDict([('Ivan', 19), ('Mark', 25), ('Andrey', 23), ('Maria', 20), ('Nikita', 23)])\n",
      "OrderedDict([('Ivan', 19), ('Mark', 25), ('Maria', 20), ('Nikita', 23)])\n",
      "OrderedDict([('Ivan', 19), ('Mark', 25), ('Maria', 20), ('Nikita', 23), ('Andrey', 25)])\n"
     ]
    }
   ],
   "source": [
    "data = [('Ivan', 19),('Mark', 25),('Andrey', 23),('Maria', 20)]\n",
    "from collections import OrderedDict\n",
    "\n",
    "OrderedDict_clients = OrderedDict(data)\n",
    "OrderedDict_clients['Nikita'] = 23\n",
    "print(OrderedDict_clients)\n",
    "del OrderedDict_clients['Andrey']\n",
    "print(OrderedDict_clients)\n",
    "OrderedDict_clients['Andrey'] = 25\n",
    "print(OrderedDict_clients)"
   ]
  },
  {
   "cell_type": "code",
   "execution_count": 16,
   "metadata": {},
   "outputs": [
    {
     "name": "stdout",
     "output_type": "stream",
     "text": [
      "OrderedDict([('2020', 1.5), ('2005', -1.6), ('2008', -1.7), ('2007', -2.4), ('2001', -2.5), ('2015', -2.7), ('2018', -2.9), ('2009', -3.5), ('2017', -3.9), ('2000', -4.4), ('2002', -4.4), ('2012', -4.9), ('2011', -5.8), ('2006', -5.9), ('2013', -6.1), ('2019', -6.5), ('2014', -6.9), ('2004', -8.2), ('2003', -9.5), ('2016', -11.2), ('2010', -12.1)])\n"
     ]
    }
   ],
   "source": [
    "from collections import OrderedDict\n",
    "temps = [('2000', -4.4), ('2001', -2.5), ('2002', -4.4), \n",
    "         ('2003', -9.5), ('2004', -8.2), ('2005', -1.6), \n",
    "         ('2006', -5.9), ('2007', -2.4), ('2008', -1.7), \n",
    "         ('2009', -3.5), ('2010', -12.1), ('2011', -5.8),\n",
    "         ('2012', -4.9), ('2013', -6.1), ('2014', -6.9), \n",
    "         ('2015', -2.7), ('2016', -11.2), ('2017', -3.9), \n",
    "         ('2018', -2.9), ('2019', -6.5), ('2020', 1.5)]\n",
    "\n",
    "check_temps = OrderedDict(sorted(temps, key= lambda x: x[1], reverse=True))\n",
    "print(check_temps)\n",
    "    \n"
   ]
  },
  {
   "cell_type": "code",
   "execution_count": 17,
   "metadata": {},
   "outputs": [
    {
     "name": "stdout",
     "output_type": "stream",
     "text": [
      "OrderedDict([('2020', 1.5), ('2005', -1.6), ('2008', -1.7), ('2007', -2.4), ('2001', -2.5), ('2015', -2.7), ('2018', -2.9), ('2009', -3.5), ('2017', -3.9), ('2000', -4.4), ('2002', -4.4), ('2012', -4.9), ('2011', -5.8), ('2006', -5.9), ('2013', -6.1), ('2019', -6.5), ('2014', -6.9), ('2004', -8.2), ('2003', -9.5), ('2016', -11.2), ('2010', -12.1)])\n"
     ]
    }
   ],
   "source": [
    "from collections import OrderedDict\n",
    "temps = [('2000', -4.4), ('2001', -2.5), ('2002', -4.4), \n",
    "         ('2003', -9.5), ('2004', -8.2), ('2005', -1.6), \n",
    "         ('2006', -5.9), ('2007', -2.4), ('2008', -1.7), \n",
    "         ('2009', -3.5), ('2010', -12.1), ('2011', -5.8),\n",
    "         ('2012', -4.9), ('2013', -6.1), ('2014', -6.9), \n",
    "         ('2015', -2.7), ('2016', -11.2), ('2017', -3.9), \n",
    "         ('2018', -2.9), ('2019', -6.5), ('2020', 1.5)]\n",
    "\n",
    "temps.sort(key=lambda x: x[1], reverse=True)\n",
    "od = OrderedDict(temps)\n",
    "print(od)"
   ]
  },
  {
   "cell_type": "code",
   "execution_count": null,
   "metadata": {},
   "outputs": [],
   "source": []
  }
 ],
 "metadata": {
  "kernelspec": {
   "display_name": "Python 3",
   "language": "python",
   "name": "python3"
  },
  "language_info": {
   "codemirror_mode": {
    "name": "ipython",
    "version": 3
   },
   "file_extension": ".py",
   "mimetype": "text/x-python",
   "name": "python",
   "nbconvert_exporter": "python",
   "pygments_lexer": "ipython3",
   "version": "3.8.10"
  },
  "orig_nbformat": 4,
  "vscode": {
   "interpreter": {
    "hash": "31f2aee4e71d21fbe5cf8b01ff0e069b9275f58929596ceb00d14d90e3e16cd6"
   }
  }
 },
 "nbformat": 4,
 "nbformat_minor": 2
}
