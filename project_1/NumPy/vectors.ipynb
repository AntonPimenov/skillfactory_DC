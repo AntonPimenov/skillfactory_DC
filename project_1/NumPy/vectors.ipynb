{
 "cells": [
  {
   "cell_type": "code",
   "execution_count": 16,
   "metadata": {},
   "outputs": [
    {
     "name": "stdout",
     "output_type": "stream",
     "text": [
      "[ 2  4  6 10]\n",
      "[0 0 0 0]\n",
      "[   1    4   27 4096]\n",
      "[10 20 30 40]\n",
      "[11 12 13 14]\n",
      "[ True False False False]\n",
      "Вычисление длины вектора\n",
      "5.477225575051661\n",
      "Вычисление расстояния м/у векторами\n",
      "2.0\n",
      "\n",
      "скалярное произведение\n",
      "\n",
      "400.0\n"
     ]
    }
   ],
   "source": [
    "import numpy as np\n",
    "\n",
    "vec1 = np.array([1, 2, 3, 4])\n",
    "vec2 = np.array([1, 2, 3, 6])\n",
    "\n",
    "#Operation vectors\n",
    "print(vec1 + vec2)  #sum\n",
    "print(vec2 - vec2)\n",
    "print(vec1 ** vec2)\n",
    "print(vec1 * 10)\n",
    "print(vec1 + 10)\n",
    "print(vec1 <= 1)\n",
    "\n",
    "#Вычисление длины вектора и расстояния м/у векторами\n",
    "print('Вычисление длины вектора')\n",
    "length = np.linalg.norm(vec1)\n",
    "print(length)\n",
    "print('Вычисление расстояния м/у векторами')\n",
    "distance = np.linalg.norm(vec1 - vec2)\n",
    "print(distance)\n",
    "print('')\n",
    "\n",
    "#Скалярное произведение 2-х векторов\n",
    "print('скалярное произведение')\n",
    "print('')\n",
    "vec3 = np.arange(1, 6)\n",
    "vec4 = np.linspace(20, 30, 5)\n",
    "scalar = np.dot(vec3, vec4)\n",
    "print(scalar)\n"
   ]
  },
  {
   "cell_type": "code",
   "execution_count": null,
   "metadata": {},
   "outputs": [],
   "source": []
  }
 ],
 "metadata": {
  "kernelspec": {
   "display_name": "Python 3",
   "language": "python",
   "name": "python3"
  },
  "language_info": {
   "codemirror_mode": {
    "name": "ipython",
    "version": 3
   },
   "file_extension": ".py",
   "mimetype": "text/x-python",
   "name": "python",
   "nbconvert_exporter": "python",
   "pygments_lexer": "ipython3",
   "version": "3.8.10"
  },
  "orig_nbformat": 4,
  "vscode": {
   "interpreter": {
    "hash": "31f2aee4e71d21fbe5cf8b01ff0e069b9275f58929596ceb00d14d90e3e16cd6"
   }
  }
 },
 "nbformat": 4,
 "nbformat_minor": 2
}
