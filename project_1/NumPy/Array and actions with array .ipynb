{
 "cells": [
  {
   "cell_type": "code",
   "execution_count": 1,
   "metadata": {},
   "outputs": [
    {
     "name": "stdout",
     "output_type": "stream",
     "text": [
      "[[[0. 0. 0.]\n",
      "  [0. 0. 0.]\n",
      "  [0. 0. 0.]\n",
      "  [0. 0. 0.]]\n",
      "\n",
      " [[0. 0. 0.]\n",
      "  [0. 0. 0.]\n",
      "  [0. 0. 0.]\n",
      "  [0. 0. 0.]]\n",
      "\n",
      " [[0. 0. 0.]\n",
      "  [0. 0. 0.]\n",
      "  [0. 0. 0.]\n",
      "  [0. 0. 0.]]\n",
      "\n",
      " [[0. 0. 0.]\n",
      "  [0. 0. 0.]\n",
      "  [0. 0. 0.]\n",
      "  [0. 0. 0.]]\n",
      "\n",
      " [[0. 0. 0.]\n",
      "  [0. 0. 0.]\n",
      "  [0. 0. 0.]\n",
      "  [0. 0. 0.]]]\n"
     ]
    }
   ],
   "source": [
    "import numpy as np\n",
    "\n",
    "zeros_3d = np.zeros((5, 4, 3), dtype=np.float32)\n",
    "print(zeros_3d) "
   ]
  },
  {
   "cell_type": "code",
   "execution_count": 12,
   "metadata": {},
   "outputs": [
    {
     "data": {
      "text/plain": [
       "dtype('int64')"
      ]
     },
     "execution_count": 12,
     "metadata": {},
     "output_type": "execute_result"
    }
   ],
   "source": [
    "import numpy as nd\n",
    "arr = np.array([\n",
    "            [1, 2, 3],\n",
    "            [4, 5, 6],\n",
    "            [7, 8, 9]])\n",
    "arr[2][1]=10\n",
    "arr\n",
    "arr.dtype"
   ]
  },
  {
   "cell_type": "code",
   "execution_count": 21,
   "metadata": {},
   "outputs": [
    {
     "name": "stdout",
     "output_type": "stream",
     "text": [
      "0.45\n"
     ]
    },
    {
     "data": {
      "text/plain": [
       "array([-6.  , -5.55, -5.1 , -4.65, -4.2 , -3.75, -3.3 , -2.85, -2.4 ,\n",
       "       -1.95, -1.5 , -1.05, -0.6 , -0.15,  0.3 ,  0.75,  1.2 ,  1.65,\n",
       "        2.1 ,  2.55,  3.  ,  3.45,  3.9 ,  4.35,  4.8 ,  5.25,  5.7 ,\n",
       "        6.15,  6.6 ,  7.05,  7.5 ,  7.95,  8.4 ,  8.85,  9.3 ,  9.75,\n",
       "       10.2 , 10.65, 11.1 , 11.55, 12.  , 12.45, 12.9 , 13.35, 13.8 ,\n",
       "       14.25, 14.7 , 15.15, 15.6 , 16.05, 16.5 , 16.95, 17.4 , 17.85,\n",
       "       18.3 , 18.75, 19.2 , 19.65, 20.1 , 20.55])"
      ]
     },
     "execution_count": 21,
     "metadata": {},
     "output_type": "execute_result"
    }
   ],
   "source": [
    "import numpy as np\n",
    "\n",
    "arr, step = np.linspace(-6, 21, 60,endpoint=False, retstep=True)\n",
    "print(step)\n",
    "arr"
   ]
  },
  {
   "cell_type": "code",
   "execution_count": 11,
   "metadata": {},
   "outputs": [
    {
     "name": "stdout",
     "output_type": "stream",
     "text": [
      "[0 1 2 3 4 5 6 7]\n",
      "[[0 1 2 3]\n",
      " [4 5 6 7]]\n",
      "\n",
      "[[0 1]\n",
      " [2 3]\n",
      " [4 5]\n",
      " [6 7]]\n",
      "\n",
      "[[0 2 4 6 8]\n",
      " [1 3 5 7 9]]\n"
     ]
    }
   ],
   "source": [
    "import numpy as np\n",
    "\n",
    "arr = np.arange(8)\n",
    "print(arr)\n",
    "arr.shape = (2, 4)\n",
    "print(arr)\n",
    "print('')\n",
    "\n",
    "#сохранение старого массива и создание нового\n",
    "arr_new = arr.reshape((4,2))\n",
    "print(arr_new)\n",
    "print('')\n",
    "\n",
    "arr_1 = np.arange(10)\n",
    "arr_new_2 = arr_1.reshape((2, 5), order='F') #заполнение массива по столбцам\n",
    "print(arr_new_2)\n"
   ]
  },
  {
   "cell_type": "code",
   "execution_count": 13,
   "metadata": {},
   "outputs": [
    {
     "name": "stdout",
     "output_type": "stream",
     "text": [
      "[[0 1 2 3]\n",
      " [4 5 6 7]]\n",
      "\n",
      "[[0 4]\n",
      " [1 5]\n",
      " [2 6]\n",
      " [3 7]]\n",
      "[[3 7]\n",
      " [2 6]\n",
      " [1 5]\n",
      " [0 4]]\n"
     ]
    }
   ],
   "source": [
    "import numpy as np\n",
    "arr = np.arange(8)\n",
    "arr.shape = (2, 4)\n",
    "print(arr)\n",
    "print('')\n",
    "arr_new = arr.transpose() #функция меняет строки и столбцы местами\n",
    "print(arr_new)\n",
    "print(arr_new[::-1])"
   ]
  },
  {
   "cell_type": "code",
   "execution_count": 33,
   "metadata": {},
   "outputs": [
    {
     "name": "stdout",
     "output_type": "stream",
     "text": [
      "30305\n",
      "-32037\n",
      "[13240  7994 32592 20149 13754 11795  -564]\n",
      "[-17182  15790  25397  11795  12578    -47]\n"
     ]
    }
   ],
   "source": [
    "mystery = np.array([\n",
    "        [-13586,  15203,  28445, -27117,  -1781, -17182, -18049],\n",
    "       [ 25936, -30968,  -1297,  -4593,   6451,  15790,   7181],\n",
    "       [ 13348,  28049,  28655,  -6012,  21762,  25397,   8225],\n",
    "       [ 13240,   7994,  32592,  20149,  13754,  11795,   -564],\n",
    "       [-21725,  -8681,  30305,  22260, -17918,  12578,  29943],\n",
    "       [-16841, -25392, -17278,  11740,   5916,    -47, -32037]],\n",
    "      dtype=np.int16)\n",
    "\n",
    "mystery.shape\n",
    "elem_5_3 = mystery[4,  2]\n",
    "print(elem_5_3)\n",
    "last = mystery[5, 6]\n",
    "print(last)\n",
    "line_4 = mystery[3]\n",
    "print(line_4)\n",
    "col_2 = mystery[::,-2]\n",
    "print(col_2)\n",
    "rev = reversed(mystery[::, -1])\n",
    "\n"
   ]
  },
  {
   "cell_type": "code",
   "execution_count": null,
   "metadata": {},
   "outputs": [],
   "source": []
  }
 ],
 "metadata": {
  "kernelspec": {
   "display_name": "Python 3",
   "language": "python",
   "name": "python3"
  },
  "language_info": {
   "codemirror_mode": {
    "name": "ipython",
    "version": 3
   },
   "file_extension": ".py",
   "mimetype": "text/x-python",
   "name": "python",
   "nbconvert_exporter": "python",
   "pygments_lexer": "ipython3",
   "version": "3.8.10 (default, Nov 14 2022, 12:59:47) \n[GCC 9.4.0]"
  },
  "orig_nbformat": 4,
  "vscode": {
   "interpreter": {
    "hash": "31f2aee4e71d21fbe5cf8b01ff0e069b9275f58929596ceb00d14d90e3e16cd6"
   }
  }
 },
 "nbformat": 4,
 "nbformat_minor": 2
}
