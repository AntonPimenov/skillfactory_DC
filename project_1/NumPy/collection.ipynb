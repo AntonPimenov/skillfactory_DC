{
 "cells": [
  {
   "cell_type": "code",
   "execution_count": 12,
   "metadata": {},
   "outputs": [
    {
     "name": "stdout",
     "output_type": "stream",
     "text": [
      "True\n",
      "True\n",
      "False\n"
     ]
    }
   ],
   "source": [
    "#Ф-ия определения правильной последовательности круглых скобок\n",
    "\n",
    "def brackets(line: str):\n",
    "    stack = list()\n",
    "    \n",
    "    try:\n",
    "        for element in line:\n",
    "            if element == \"(\":\n",
    "                stack.append(element)\n",
    "            elif element == \")\":\n",
    "                stack.pop()\n",
    "            else:\n",
    "                raise Exception(\"Wrong string format\")\n",
    "    except IndexError:\n",
    "        return \"False\"\n",
    "    return \"True\" if len(stack) == 0 else \"False\"\n",
    "\n",
    "print(brackets(\"(()())\"))\n",
    "# True\n",
    "print(brackets(\"\"))\n",
    "# True\n",
    "print(brackets(\"(()()))\"))\n",
    "# False\n",
    "               "
   ]
  },
  {
   "cell_type": "code",
   "execution_count": 44,
   "metadata": {},
   "outputs": [
    {
     "name": "stdout",
     "output_type": "stream",
     "text": [
      "True\n",
      "False\n",
      "True\n"
     ]
    }
   ],
   "source": [
    "#Идеальный ответ из скиллфактор\n",
    "from collections import deque\n",
    "\n",
    "def brackets(line):\n",
    "    stack = deque()\n",
    "    for i in line:\n",
    "        if i == \"(\":\n",
    "            stack.append(i)\n",
    "        elif i == \")\":\n",
    "            if  len(stack) == 0:\n",
    "                return False\n",
    "            stack.pop()\n",
    "    if len(stack) == 0:\n",
    "        return True\n",
    "    return True           \n",
    "\n",
    "print(brackets('((()))'))\n",
    "print(brackets(')()()))('))\n",
    "print(brackets(\"(()())\"))"
   ]
  },
  {
   "cell_type": "code",
   "execution_count": 48,
   "metadata": {},
   "outputs": [
    {
     "name": "stdout",
     "output_type": "stream",
     "text": [
      "113\n",
      "Counter({'Beer': 32, 'Cola': 26, 'Chips': 12, 'Bread': 11, 'Soap': 8, 'Milk': 7, 'Chocolate': 6, 'Yoghurt': 4, 'Meat': 4, 'Ketchup': 2, 'Cheese': 1})\n",
      "('Cheese', 1)\n"
     ]
    }
   ],
   "source": [
    "north = [['Milk', 'Milk', 'Beer'], \n",
    "         ['Chocolate', 'Bread', 'Chips'], \n",
    "         ['Cola', 'Cola', 'Yoghurt', 'Soap', 'Beer', 'Chips', 'Milk'], \n",
    "         ['Soap', 'Soap', 'Cola', 'Cola', 'Chips'], \n",
    "         ['Milk', 'Beer', 'Meat', 'Ketchup', 'Cola', 'Cola', 'Chips', 'Chips', 'Cola', 'Cola'], \n",
    "         ['Beer', 'Bread', 'Bread', 'Beer', 'Beer', 'Beer', 'Bread', 'Cheese'], \n",
    "         ['Yoghurt', 'Beer', 'Chips', 'Milk', 'Soap', 'Cola', 'Cola', 'Cola', 'Beer', 'Cola', 'Cola', 'Cola', 'Beer', 'Ketchup', 'Beer', 'Beer', 'Beer', 'Soap'], \n",
    "         ['Milk', 'Cola', 'Cola', 'Beer', 'Beer', 'Bread', 'Bread', 'Soap', 'Cola', 'Cola', 'Beer', 'Meat', 'Bread', 'Chips'], \n",
    "         ['Beer', 'Beer', 'Beer', 'Chips', 'Milk', 'Cola', 'Chocolate', 'Beer', 'Chocolate', 'Beer', 'Beer', 'Cola', 'Meat', 'Yoghurt', 'Beer'], \n",
    "         ['Bread'], \n",
    "         ['Chocolate', 'Beer', 'Meat', 'Yoghurt'], \n",
    "         ['Cola', 'Beer', 'Beer', 'Beer', 'Chocolate', 'Beer', 'Soap', 'Beer', 'Chips', 'Soap', 'Chocolate', 'Bread', 'Chips', 'Cola', 'Bread', 'Beer', 'Cola', 'Bread'], \n",
    "         ['Chips', 'Cola', 'Beer', 'Chips', 'Cola', 'Cola', 'Beer']]\n",
    "\n",
    "from collections import Counter\n",
    "north_list = [elem for bill in north for elem in bill]\n",
    "print(len(north_list))\n",
    "n = Counter(north_list)\n",
    "#center_count = Counter(center)\n",
    "#south_count = Counter(south)\n",
    "print(n)\n",
    "#print(list(center_count))\n",
    "#print(list(south_count))\n",
    "print(n.most_common()[-1])  #самый редкий товар\n",
    "   "
   ]
  },
  {
   "cell_type": "code",
   "execution_count": 17,
   "metadata": {},
   "outputs": [
    {
     "name": "stdout",
     "output_type": "stream",
     "text": [
      "OrderedDict([('WokAndRice', 4.9), ('WokToWork', 4.9), ('General Foods', 4.8), ('New Age', 4.6), ('Belissimo', 4.5), ('CakeAndCoffee', 4.2), ('CakeOClock', 4.2), ('CakeTime', 4.1), ('Nice Cakes', 3.9), ('Old Gold', 3.3), ('Old Wine Cellar', 3.3), ('Old York', 3.3)])\n"
     ]
    }
   ],
   "source": [
    "ratings = [('Old York', 3.3), ('New Age', 4.6), ('Old Gold', 3.3), ('General Foods', 4.8),\n",
    "           ('Belissimo', 4.5), ('CakeAndCoffee', 4.2), ('CakeOClock', 4.2), ('CakeTime', 4.1),\n",
    "           ('WokToWork', 4.9), ('WokAndRice', 4.9), ('Old Wine Cellar', 3.3), ('Nice Cakes', 3.9)]\n",
    "\n",
    "#Отсортировать список кафе по рейтингу и алфавиту\n",
    "from collections import OrderedDict\n",
    "ratings.sort(key=lambda x: (-x[1], x[0]))\n",
    "\n",
    "cafes = OrderedDict(ratings)\n",
    "print(cafes)\n"
   ]
  },
  {
   "cell_type": "code",
   "execution_count": 4,
   "metadata": {},
   "outputs": [
    {
     "name": "stdout",
     "output_type": "stream",
     "text": [
      "defaultdict(<class 'collections.deque'>, {'office': deque([36871, 40690, 33850]), 'voltage': deque([41667, 35364])})\n"
     ]
    }
   ],
   "source": [
    "tasks = [\n",
    "    (36871, 'office', False),\n",
    "    (40690, 'office', False),\n",
    "    (35364, 'voltage', False),\n",
    "    (41667, 'voltage', True),\n",
    "    (33850, 'office', False)]\n",
    " \n",
    "from collections import deque, defaultdict\n",
    "\n",
    "def task_manager(tasks):\n",
    "    servers = defaultdict(deque)\n",
    "    for task in tasks:\n",
    "        if task[-1]:\n",
    "            servers[task[1]].appendleft(task[0])\n",
    "            \n",
    "        else:\n",
    "            servers[task[1]].append(task[0])\n",
    "    return servers\n",
    "\n",
    "print(task_manager(tasks))      \n",
    "    "
   ]
  },
  {
   "cell_type": "code",
   "execution_count": 1,
   "metadata": {},
   "outputs": [
    {
     "name": "stdout",
     "output_type": "stream",
     "text": [
      "['Milk', 'Milk', 'Beer', 'Chocolate', 'Bread', 'Chips']\n"
     ]
    }
   ],
   "source": [
    "north = [[['Milk', 'Milk'], ['Beer','Chocolate', 'Bread', 'Chips']]]\n",
    "new = [elem for list_1 in north for list_2 in list_1 for elem in list_2 ]\n",
    "print(new)"
   ]
  },
  {
   "cell_type": "code",
   "execution_count": null,
   "metadata": {},
   "outputs": [],
   "source": []
  }
 ],
 "metadata": {
  "kernelspec": {
   "display_name": "Python 3",
   "language": "python",
   "name": "python3"
  },
  "language_info": {
   "codemirror_mode": {
    "name": "ipython",
    "version": 3
   },
   "file_extension": ".py",
   "mimetype": "text/x-python",
   "name": "python",
   "nbconvert_exporter": "python",
   "pygments_lexer": "ipython3",
   "version": "3.8.10"
  },
  "orig_nbformat": 4,
  "vscode": {
   "interpreter": {
    "hash": "31f2aee4e71d21fbe5cf8b01ff0e069b9275f58929596ceb00d14d90e3e16cd6"
   }
  }
 },
 "nbformat": 4,
 "nbformat_minor": 2
}
