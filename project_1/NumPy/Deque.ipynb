{
 "cells": [
  {
   "cell_type": "code",
   "execution_count": 6,
   "metadata": {},
   "outputs": [
    {
     "name": "stdout",
     "output_type": "stream",
     "text": [
      "deque(['Ivanov', 'Petrov', 'Smirnov', 'Sidorov'])\n",
      "deque(['Petrov', 'Smirnov', 'Sidorov'])\n",
      "deque(['Vip', 'Petrov', 'Smirnov', 'Sidorov'])\n",
      "Sidorov left the queue\n",
      "deque(['Vip', 'Petrov', 'Smirnov'])\n",
      "deque(['Vip', 'Petrov'])\n"
     ]
    }
   ],
   "source": [
    "from collections import deque\n",
    "\n",
    "clients = deque()\n",
    "clients.append('Ivanov')\n",
    "clients.append('Petrov')\n",
    "clients.append('Smirnov')\n",
    "clients.append('Sidorov')\n",
    "print(clients)\n",
    "\n",
    "first_client = clients.popleft()\n",
    "print(clients)\n",
    "\n",
    "clients.appendleft('Vip')\n",
    "print(clients)\n",
    "\n",
    "tired_client = clients.pop()\n",
    "print(tired_client, \"left the queue\")\n",
    "print(clients)\n",
    "\n",
    "#удаление по индексу\n",
    "del clients[2]\n",
    "print(clients)\n",
    "\n",
    "\n",
    "\n"
   ]
  },
  {
   "cell_type": "code",
   "execution_count": 7,
   "metadata": {},
   "outputs": [
    {
     "name": "stdout",
     "output_type": "stream",
     "text": [
      "deque([1, 2, 3, 4, 5])\n",
      "deque([1, 2, 3, 4, 5, 11, 12, 13, 14, 15])\n",
      "deque([555, 444, 333, 222, 111, 1, 2, 3, 4, 5, 11, 12, 13, 14, 15])\n"
     ]
    }
   ],
   "source": [
    "shop = deque([1,2,3,4,5])\n",
    "print(shop)\n",
    "\n",
    "shop_2 = deque([11,12,13,14,15])\n",
    "shop.extend(shop_2)\n",
    "print(shop)\n",
    "\n",
    "shop_3 = deque([111,222,333,444,555])\n",
    "shop.extendleft(shop_3)\n",
    "print(shop)"
   ]
  },
  {
   "cell_type": "code",
   "execution_count": 8,
   "metadata": {},
   "outputs": [
    {
     "name": "stdout",
     "output_type": "stream",
     "text": [
      "20.77;21.27;22.16;23.3;24.44;24.94;25.56;26.2;25.97;25.94;25.57;25.1;24.81;24.21;23.23;22.57;21.41;20.4;19.6;19.1;19.04;18.96;19.44;20.01;20.67;\n"
     ]
    }
   ],
   "source": [
    "from collections import deque\n",
    "\n",
    "temps = [20.6, 19.4, 19.0, 19.0, 22.1,\n",
    "        22.5, 22.8, 24.1, 25.6, 27.0,\n",
    "        27.0, 25.6, 26.8, 27.3, 22.5,\n",
    "        25.4, 24.4, 23.7, 23.6, 22.6,\n",
    "        20.4, 17.9, 17.3, 17.3, 18.1,\n",
    "        20.1, 22.2, 19.8, 21.3, 21.3,\n",
    "        21.9]\n",
    "days = deque(maxlen=7)\n",
    "\n",
    "for temp in temps:\n",
    "    #добавляем температуру в очередь\n",
    "    days.append(temp)\n",
    "    if len(days) == days.maxlen:\n",
    "        #если длина очереди равна максимальной длине очереди(7)\n",
    "        #печатаем среднюю температуру за последние семь дней\n",
    "        print(round(sum(days) / len(days), 2), end=';')\n",
    "        \n",
    "print(\"\")        "
   ]
  },
  {
   "cell_type": "code",
   "execution_count": null,
   "metadata": {},
   "outputs": [],
   "source": []
  }
 ],
 "metadata": {
  "kernelspec": {
   "display_name": "Python 3",
   "language": "python",
   "name": "python3"
  },
  "language_info": {
   "codemirror_mode": {
    "name": "ipython",
    "version": 3
   },
   "file_extension": ".py",
   "mimetype": "text/x-python",
   "name": "python",
   "nbconvert_exporter": "python",
   "pygments_lexer": "ipython3",
   "version": "3.8.10 (default, Nov 14 2022, 12:59:47) \n[GCC 9.4.0]"
  },
  "orig_nbformat": 4,
  "vscode": {
   "interpreter": {
    "hash": "31f2aee4e71d21fbe5cf8b01ff0e069b9275f58929596ceb00d14d90e3e16cd6"
   }
  }
 },
 "nbformat": 4,
 "nbformat_minor": 2
}
