{
 "cells": [
  {
   "cell_type": "code",
   "execution_count": 7,
   "metadata": {},
   "outputs": [
    {
     "name": "stdout",
     "output_type": "stream",
     "text": [
      "chlorhexidine    15\n",
      "cyntomycin       18\n",
      "afobazol          7\n",
      "Name: medications, dtype: int64\n",
      "37.5\n",
      "40\n"
     ]
    }
   ],
   "source": [
    "# В аптеку поступают партии лекарств.\n",
    "# Их названия находятся в списке names, количество единиц товара находится в списке counts.\n",
    "# Например:\n",
    "# names=['chlorhexidine', 'cyntomycin', 'afobazol']\n",
    "# counts=[15, 18, 7]\n",
    "\n",
    "# Напишите функцию create_medications(names, counts), создающую Series medications, \n",
    "# индексами которого являются названия лекарств names, а значениями — их количество в партии counts.\n",
    "\n",
    "# Также напишите функцию get_percent(medications, name), \n",
    "# которая возвращает долю товара с именем name от общего количества товаров в партии в процентах.\n",
    "\n",
    "import pandas as pd\n",
    "\n",
    "names = ['chlorhexidine', 'cyntomycin', 'afobazol']\n",
    "counts = [15, 18, 7]\n",
    "\n",
    "def create_medications(names, counts):\n",
    "    medications = pd.Series(data= counts, index= names, name= 'medications')\n",
    "    return medications\n",
    "\n",
    "def get_percent(medications, name):\n",
    "    return (medications.loc[name] / sum(medications)) * 100\n",
    "    \n",
    "\n",
    "medications = create_medications(names, counts)\n",
    "print(medications)\n",
    "print(get_percent(medications, 'chlorhexidine'))\n",
    "print(sum(medications))"
   ]
  },
  {
   "cell_type": "code",
   "execution_count": null,
   "metadata": {},
   "outputs": [],
   "source": []
  }
 ],
 "metadata": {
  "kernelspec": {
   "display_name": "Python 3",
   "language": "python",
   "name": "python3"
  },
  "language_info": {
   "codemirror_mode": {
    "name": "ipython",
    "version": 3
   },
   "file_extension": ".py",
   "mimetype": "text/x-python",
   "name": "python",
   "nbconvert_exporter": "python",
   "pygments_lexer": "ipython3",
   "version": "3.8.10"
  },
  "orig_nbformat": 4,
  "vscode": {
   "interpreter": {
    "hash": "31f2aee4e71d21fbe5cf8b01ff0e069b9275f58929596ceb00d14d90e3e16cd6"
   }
  }
 },
 "nbformat": 4,
 "nbformat_minor": 2
}
