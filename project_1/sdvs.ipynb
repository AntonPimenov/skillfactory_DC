{
 "cells": [
  {
   "cell_type": "code",
   "execution_count": 2,
   "metadata": {},
   "outputs": [
    {
     "name": "stdout",
     "output_type": "stream",
     "text": [
      "True True False\n"
     ]
    }
   ],
   "source": [
    "x = 10\n",
    "y = 100\n",
    "z = (x % 2 == 0) and (y >= 100)\n",
    "v = (x % 2 == 0) or (y >= 100)\n",
    "w = not(x % 2 == 0) or not(y >= 100)\n",
    "print(z, v, w)\n"
   ]
  },
  {
   "cell_type": "code",
   "execution_count": 4,
   "metadata": {},
   "outputs": [
    {
     "name": "stdout",
     "output_type": "stream",
     "text": [
      "11\n"
     ]
    }
   ],
   "source": [
    "result = 10\n",
    "my_dict = {'key_1': 10}\n",
    "item = my_dict.pop('key_1')\n",
    "if my_dict:\n",
    "    result = result + item\n",
    "else:\n",
    "    result = result + 1\n",
    " \n",
    "print(result)"
   ]
  },
  {
   "cell_type": "code",
   "execution_count": 7,
   "metadata": {},
   "outputs": [
    {
     "name": "stdout",
     "output_type": "stream",
     "text": [
      "Ваша половинка нашлась!\n"
     ]
    }
   ],
   "source": [
    "\n",
    "\n",
    "height = 188\n",
    "weight = 75\n",
    "zodiac_sign = 'дева'\n",
    "# \"Попробуем поискать еще!\"\n",
    "\n",
    "## Введите свое решение ниже\n",
    "height_min = 180\n",
    "weight_min = 80\n",
    "zodiac_sign_list = ['весы', 'дева', 'овен', 'козерог']\n",
    "condition_height = height > height_min\n",
    "condition_weight = weight < weight_min\n",
    "condition_zodiac = zodiac_sign in zodiac_sign_list\n",
    "if condition_height and condition_weight and condition_zodiac:\n",
    "    print('Ваша половинка нашлась!')\n",
    "else:\n",
    "    print('Попробуем поискать еще!')"
   ]
  },
  {
   "cell_type": "code",
   "execution_count": null,
   "metadata": {},
   "outputs": [],
   "source": []
  }
 ],
 "metadata": {
  "kernelspec": {
   "display_name": "Python 3",
   "language": "python",
   "name": "python3"
  },
  "language_info": {
   "codemirror_mode": {
    "name": "ipython",
    "version": 3
   },
   "file_extension": ".py",
   "mimetype": "text/x-python",
   "name": "python",
   "nbconvert_exporter": "python",
   "pygments_lexer": "ipython3",
   "version": "3.8.10"
  },
  "orig_nbformat": 4,
  "vscode": {
   "interpreter": {
    "hash": "31f2aee4e71d21fbe5cf8b01ff0e069b9275f58929596ceb00d14d90e3e16cd6"
   }
  }
 },
 "nbformat": 4,
 "nbformat_minor": 2
}
